{
 "cells": [
  {
   "cell_type": "code",
   "execution_count": 5,
   "id": "e643be66-a6b6-432d-b62a-6275ba4790dd",
   "metadata": {},
   "outputs": [],
   "source": [
    "# venv: uacademia >>> 20250526 >>> proyecto: cd917754"
   ]
  },
  {
   "cell_type": "markdown",
   "id": "d49de7b6-00ec-4fea-a0bd-eeb2cb1fd42b",
   "metadata": {},
   "source": [
    "# Proyecto EDA"
   ]
  },
  {
   "cell_type": "markdown",
   "id": "cb61c1fb-4d8f-4f60-bc5c-116d87680bdd",
   "metadata": {},
   "source": [
    "![](https://media.licdn.com/dms/image/v2/D4D12AQEFDU4XuJP11w/article-cover_image-shrink_720_1280/article-cover_image-shrink_720_1280/0/1698229402254?e=1753920000&v=beta&t=E2G0vtksh3pyRlVVx6OLGqeu3gXAEZ_6qm7jtnWiSpU)"
   ]
  },
  {
   "cell_type": "markdown",
   "id": "ba585524-1d51-4dd3-b384-6b1d2d2d32a2",
   "metadata": {},
   "source": [
    "## Objetivos\n",
    "\n",
    "- Realizar un correcto análisis y tratamiento de los datos, el cuál permitirá preparar y limpiar los datos de la forma más adecuada.\n",
    "- Comprender la relevacia de las variables e identificará las variables más significativas que tienen mayor relación con el objetivo.\n",
    "- Comprender la correlación entre las variables y señalar gráficamente los valores atípicos en las distribuciones.\n",
    "- Eliminar valores faltantes, duplicados y atípicos de manera correcta, usando el modo más adecuado para su objetivo.\n"
   ]
  },
  {
   "attachments": {},
   "cell_type": "markdown",
   "id": "771eda8f-ccac-4eee-be90-a6555ee9dd7d",
   "metadata": {},
   "source": [
    "## Criterio de evaluación\n",
    "| Criterio | Puntaje Máximo | Destacado (5 pts) | Competente (3 pts) | Básico (1 pt) | Insatisfactorio (0 pts)\n",
    "| -- | -- | -- | -- | -- | --\n",
    "| Análisis inicial, registros y columnas. Tipo de datos. | 5 | Indica el número de filas y columnas del dataframe.Indica además el nombre y tipo de dato de la columna y realiza la transformación en caso de ser necesario, explicando el proceso realizado. | Indica el número de filas y columnas, e identifica el tipo de dato. Puede realizar transformaciones, pero con explicación parcial. | Menciona parcialmente filas/columnas o tipo de datos. No realiza transformaciones o no las justifica. | No identifica adecuadamente filas, columnas ni tipo de datos. No realiza transformaciones necesarias.\n",
    "| Completitud e imputación\t|5 |Señala el porcentaje completo de datos, identificando cuándo se imputa o elimina una columna. Además, identifica el tipo de imputación según distribución simétrica o asimétrica (sesgo) por medio de gráficos. | Señala el porcentaje de datos completos y realiza imputación, sin identificar el tipo según distribución. No incluye gáficos. | Señala parcialmente la completitud. No realiza imputación o lo hace sin justificación. | No señala completitud, ni realiza imputación ni presenta gráficos.\n",
    "| Análisis estadístico descriptivo | 5 | Realiza el análisis estadístico descriptivo de los datos numéricos y de texto. | Realiza el análisis estadístico parcial de los datos numéricos  y de texto. | El análisis incluye solo parte de los datos numéricos, sin interpretación clara. | No realiza análisis estadístico o es incorrecto.\n",
    "| Análisis de valores únicos y frecuencias | 5 | Identifica los valores únicos y su frecuencia, graficándolos si corresponde. | Identifica valores únicos y su frecuencia, pero no grafica o lo hace parcialmente. | Identifica algunos valores únicos, sin indicar frecuencias ni gráficas. | No identifica valores únicos ni frecuencias.\n",
    "| Detección de outliers | 5 | Identifica outliers utilizando el tipo de gráfico pertinente. Además, explica si se eliminarán o no, argumentando su decisión. | Identifica outliers con gráfico adecuado, pero con explicación parcial de su tratamiento. | Identifica algunos outliers, sin justificar su eliminación o retención. | No identifica ni trata outliers.\n",
    "| Análisis de correlación | 5 | Realiza el gráfico de correlación y explica qué columnas están correlacionadas. | Realiza el gráfico, pero con explicación limitada sobre la relación entre columnas. | Presenta un gráfico incompleto o incorrecto, sin interpretación. | No realiza análisis de correlación.\n",
    "| Visualización de datos relevantes obtenidos del análisis realizado (*2) | 5 | Discrimina los datos relevantes del análisis realizado y presenta tres o más de estos datos procesados en sus respectivos gráficos. | Presenta al menos dos datos relevantes en gráficos, con interpretación general. | Muestra un gráfico con datos poco relevantes o sin análisis claro. | No presenta visualizaciones ni análisis relevante."
   ]
  },
  {
   "cell_type": "markdown",
   "id": "f13b74d3-5354-42a7-9ba7-d177e39bed88",
   "metadata": {},
   "source": [
    "## Proyecto: Series y películas de Netflix - Análisis exploratorio\n",
    "El conjunto de datos contiene metadatos sobre películas y series, como: el título, el director y el reparto. También incluye detalles como el año de estreno, la calificación, la duración, etc.\n",
    "\n",
    "Usaras el siguiente dataset para realizar el proyecto: **[descargar](https://drive.google.com/file/d/1kQSHvmcUbXC-okBZfPueHPTcBVa3wyrA/view?usp=sharing)**\n",
    "\n"
   ]
  },
  {
   "cell_type": "markdown",
   "id": "6fa89b44-6bb5-4488-85a3-0f4249aaf309",
   "metadata": {},
   "source": [
    "---"
   ]
  },
  {
   "cell_type": "markdown",
   "id": "6629a80e-eca9-4cb6-bcbf-cdfabc30d7a9",
   "metadata": {},
   "source": [
    "*Cada dato cuenta una historia, y ustedes tienen el poder de descubrirla. Confíen en su curiosidad, sean rigurosos con su análisis y no tengan miedo de equivocarse: los mejores hallazgos muchas veces nacen de preguntas atrevidas. ¡Vamos equipo, su proyecto puede revelar lo que nadie más ha visto!*"
   ]
  },
  {
   "cell_type": "markdown",
   "id": "07484599-f13f-4d24-9a36-44f0c296bbba",
   "metadata": {},
   "source": [
    "---"
   ]
  },
  {
   "cell_type": "code",
   "execution_count": null,
   "id": "6c7c69b6-db55-4016-ac3c-4565fe4c5b65",
   "metadata": {},
   "outputs": [],
   "source": []
  }
 ],
 "metadata": {
  "kernelspec": {
   "display_name": "Python [conda env:base] *",
   "language": "python",
   "name": "conda-base-py"
  },
  "language_info": {
   "codemirror_mode": {
    "name": "ipython",
    "version": 3
   },
   "file_extension": ".py",
   "mimetype": "text/x-python",
   "name": "python",
   "nbconvert_exporter": "python",
   "pygments_lexer": "ipython3",
   "version": "3.9.16"
  }
 },
 "nbformat": 4,
 "nbformat_minor": 5
}
