{
 "cells": [
  {
   "cell_type": "markdown",
   "id": "344e36a9-3116-400d-94bb-cc6dc6ff599b",
   "metadata": {},
   "source": [
    "# Proyecto Dashboard"
   ]
  },
  {
   "cell_type": "markdown",
   "id": "8c34220d-dd2f-40c3-b9d3-be5d93f7bcc9",
   "metadata": {},
   "source": [
    "![](https://storage.googleapis.com/coderzcolumn/static/tutorials/data_science/streamlit_dashboard.gif)"
   ]
  },
  {
   "cell_type": "markdown",
   "id": "afa7e506-8a2f-45b7-ae68-bf66aed9ced5",
   "metadata": {},
   "source": [
    "## Objetivos\n",
    "\n",
    "- Realizar un correcto análisis y tratamiento de los datos, el cuál permitirá preparar y limpiar los datos de la forma más adecuada.\n",
    "- Crear repositorio en GitHub, para almacenar el jupyter notebook con el EDA, y el Dashboard\n",
    "- Implementar correctamente el Dashboard en Streamlit\n",
    "\n",
    "## Proyecto: Dashboard, Simce cuarto básico\n",
    "Regiones para analizar:\n",
    "- tarapacá\n",
    "- maule\n",
    "- la araucanía\n",
    "- aysén del general carlos ibáñez del campo\n",
    "- magallanes y de la antártica chilena\n",
    "- metropolitana"
   ]
  },
  {
   "cell_type": "code",
   "execution_count": null,
   "id": "5842a0d8-61df-4967-adf3-4e40a1164f49",
   "metadata": {},
   "outputs": [],
   "source": []
  },
  {
   "cell_type": "markdown",
   "id": "336fe2fd-8c6e-4d43-b8dc-fceee80455fa",
   "metadata": {},
   "source": [
    "[Descargar Dataset (CSV)](https://drive.google.com/file/d/1hlYAGrD4iBWyNRzS8ORyc92UXDB4GB5p/view?usp=sharing)"
   ]
  },
  {
   "cell_type": "code",
   "execution_count": null,
   "id": "3a5bf052-209f-4410-ac26-0741934ec4b0",
   "metadata": {},
   "outputs": [],
   "source": []
  }
 ],
 "metadata": {
  "kernelspec": {
   "display_name": "Python [conda env:base] *",
   "language": "python",
   "name": "conda-base-py"
  },
  "language_info": {
   "codemirror_mode": {
    "name": "ipython",
    "version": 3
   },
   "file_extension": ".py",
   "mimetype": "text/x-python",
   "name": "python",
   "nbconvert_exporter": "python",
   "pygments_lexer": "ipython3",
   "version": "3.9.16"
  }
 },
 "nbformat": 4,
 "nbformat_minor": 5
}
