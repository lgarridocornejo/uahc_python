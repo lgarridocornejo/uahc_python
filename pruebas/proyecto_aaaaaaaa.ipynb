{
 "cells": [
  {
   "cell_type": "markdown",
   "id": "344e36a9-3116-400d-94bb-cc6dc6ff599b",
   "metadata": {},
   "source": [
    "# Dashboard Interactivo de Resultados SIMCE"
   ]
  },
  {
   "cell_type": "markdown",
   "id": "8c34220d-dd2f-40c3-b9d3-be5d93f7bcc9",
   "metadata": {},
   "source": [
    "![](https://storage.googleapis.com/coderzcolumn/static/tutorials/data_science/streamlit_dashboard.gif)"
   ]
  },
  {
   "cell_type": "markdown",
   "id": "4cffc445-0932-4437-aeff-fcea93a1fe74",
   "metadata": {},
   "source": [
    "En el rol de **Consultor de Ciencia de Datos**, se nos ha encomendado la tarea fundamental de desarrollar una **maqueta de Dashboard interactivo** utilizando la plataforma **Streamlit**. El objetivo principal de este dashboard es ofrecer una **visualización clara y dinámica de los resultados parciales de la prueba SIMCE para cuartos básicos** en Chile, permitiendo una exploración detallada de estos indicadores educativos.\n",
    "\n",
    "Este proyecto tiene como fin proporcionar una herramienta accesible para analizar el rendimiento educativo a nivel regional, provincial y comunal, facilitando la identificación de patrones y tendencias.\n",
    "\n",
    "### Estructura del Dashboard:\n",
    "\n",
    "La maqueta del dashboard se estructurará en dos componentes principales para una óptima experiencia de usuario:\n",
    "\n",
    "1. `Panel Lateral de Navegación (Sidebar)`:\n",
    "\n",
    "\n",
    "   Este panel será el centro de control para la interacción del usuario, permitiendo filtrar y explorar los datos del SIMCE a distintos niveles geográficos y por asignatura. Contendrá los siguientes widgets:\n",
    "\n",
    "    - **Selectbox de Región**: Permitirá al usuario seleccionar una de las regiones administrativas de Chile.\n",
    "\n",
    "    - **Selectbox de Provincia**: Este widget se actualizará dinámicamente, mostrando solo las provincias que pertenecen a la región previamente seleccionada.\n",
    "\n",
    "    - **Selectbox de Comuna**: De forma similar, este selectbox filtrará y presentará únicamente las comunas que corresponden a la provincia elegida.\n",
    "\n",
    "    - **Radio Button Lenguaje**: Permitirá seleccionar los resultados correspondientes a la prueba de Lenguaje.\n",
    "\n",
    "    - **Radio Button Matemáticas**: Permitirá seleccionar los resultados correspondientes a la prueba de Matemáticas.\n",
    "\n",
    "2. `Panel Central de Visualización`:\n",
    "\n",
    "\n",
    "   Este panel presentará los datos filtrados de manera gráfica y resumida, ofreciendo una visión inmediata del rendimiento del SIMCE. Estará compuesto por:\n",
    "\n",
    "   - **Un Gráfico Principal**: Diseñado para visualizar las tendencias o comparaciones de los puntajes SIMCE según los filtros aplicados.\n",
    "\n",
    "    - **Tarjetas Estadísticas (KPIs)**: Contendrán métricas clave (como puntaje máximo, mínimo, año puntaje, comuna, tanto para lenguaje como matemáticas) que proporcionarán un resumen rápido y comprensible de los datos seleccionados.\n",
    "\n",
    "Este dashboard interactivo será una demostración de cómo el análisis de datos y las herramientas de visualización pueden transformar conjuntos de datos complejos en información accionable, facilitando la comprensión del panorama educativo."
   ]
  },
  {
   "cell_type": "markdown",
   "id": "095ba0b4-717e-4e04-bbd0-a8d88f357351",
   "metadata": {},
   "source": [
    "![](https://raw.githubusercontent.com/lgarridocornejo/uahc_python/refs/heads/main/pruebas/dashboard.png)"
   ]
  },
  {
   "cell_type": "markdown",
   "id": "aae4c83b-2695-462d-b4b5-d818b0fbe88f",
   "metadata": {},
   "source": [
    "## Objetivos\n",
    "\n",
    "- Realizar un correcto análisis y tratamiento de los datos, el cuál permitirá preparar y limpiar los datos de la forma más adecuada.\n",
    "- Crear repositorio en GitHub, para almacenar el jupyter notebook con el EDA, y el Dashboard\n",
    "- Implementar correctamente el Dashboard en Streamlit"
   ]
  },
  {
   "cell_type": "markdown",
   "id": "0abcb7a1-eb16-41d7-9ef6-e2ade4f433dd",
   "metadata": {},
   "source": [
    "## Criterio de evaluación\n",
    "\n",
    "<table>\n",
    "  <thead>\n",
    "    <tr>\n",
    "      <th>Criterio</th>\n",
    "      <th>Destacado (5 pts)</th>\n",
    "      <th>Competente (3 pts)</th>\n",
    "      <th>Básico (1 pto)</th>\n",
    "      <th>Insatisfactorio (0 pts)</th>\n",
    "    </tr>\n",
    "  </thead>\n",
    "  <tbody>\n",
    "    <tr>\n",
    "      <td>EDA jupyter Notebook</td>\n",
    "      <td>\n",
    "        <li>Describe con claridad el número de filas y columnas.</li>\n",
    "        <li>Nombra e indica el tipo de dato de todas las columnas.</li>\n",
    "        <li>Indica el % de completitud y justifica claramente la imputación de datos.</li>\n",
    "        <li>El análisis estadístico es profundo y pertinente.</li>\n",
    "      </td>\n",
    "      <td>Se entrega la mayoría de los elementos solicitados.\n",
    "        <li>estructura</li>\n",
    "        <li>tipo de datos</li>\n",
    "        <li>completitud e imputación</li>\n",
    "        <li>análisis estadístico es correcto pero no muy profundo</li>\n",
    "      </td>\n",
    "      <td>\n",
    "        <li>Faltan varios elementos del EDA o están incorrectos.</li> \n",
    "        <li>El análisis estadístico es superficial o limitado.</li>\n",
    "      </td>\n",
    "      <td>\n",
    "        <li>El notebook carece de información clave del EDA.</li> \n",
    "        <li>No hay análisis estadístico o está mal ejecutado.</li>\n",
    "      </td>\n",
    "    </tr>\n",
    "    <tr>\n",
    "      <td>Proceso (inicio.py)</td>\n",
    "      <td>El script está completo, bien estructurado y comentado. \n",
    "        <li>Importa librerías</li>\n",
    "        <li>Carga el CSVs</li>\n",
    "        <li>Crea barra lateral funcional</li>\n",
    "        <li>Muestra contenido central claro y coherente, comparando datos comunales con promedio general.</li>\n",
    "      </td>\n",
    "      <td>\n",
    "          <li>El script contiene los elementos requeridos.</li> \n",
    "          <li>Algunas secciones están poco comentadas o podrían estar mejor estructuradas.</li> \n",
    "          <li>No comapara con el promedio general.</li>\n",
    "      </td>\n",
    "      <td>\n",
    "        <li>El script está incompleto o desordenado.</li> \n",
    "        <li>La barra lateral o contenido central presenta errores.</li>\n",
    "      </td>\n",
    "      <td>El script no funciona o tiene errores graves. Faltan elementos clave como carga de datos o visualización.</td>\n",
    "    </tr>\n",
    "    <tr>\n",
    "      <td>GitHub</td>\n",
    "      <td>El repositorio en GitHub bien organizado, uso correcto de nombres de archivos que incluye: \n",
    "        <li>Jupiter notebook, \n",
    "        <li>inicio.py, \n",
    "        <li>README.md: Redacción formal y ordenada.\n",
    "          <ul>\n",
    "            <li>título claro</li>\n",
    "            <li>descripción precisa</li>\n",
    "            <li>link funcional al dashboard, </li>\n",
    "            <li>nombres y GitHub de integrantes.   </li>\n",
    "          </ul>\n",
    "        <li>requirement.txt, que incluye lista precisa y minima de todas las librerías con versiones exactas , garantizando la reproducibilidad.</li></td>\n",
    "      <td>Faltan uno o dos elementos menores \n",
    "        <li>README.md, contiene casi todos los elementos, aunque con redacción o formato mejorables. Link puede estar ausente o mal insertado</li>\n",
    "        <li>requirement.txt, incluye lista de casi todas las librerias usadas</li>\n",
    "      </td>\n",
    "      <td>\n",
    "        <li>Varios archivos clave ausentes o desordenados.</li> \n",
    "        <li>README.md poco claro. Faltan varios elementos o están mal explicados. El link no funciona. </li>\n",
    "        <li>requirement.txt Incompleto, faltan librerias o incluye innecesarias.</li>\n",
    "      </td>\n",
    "      <td>\n",
    "        <li>El repositorio está incompleto, vacío o con archivos incorrectos.</li> \n",
    "        <li>No incluye README o es irrelevante para el proyecto.</li> \n",
    "        <li>Requirement.txt Incompleto, no existe o esta vacío.</li>\n",
    "      </td>\n",
    "    </tr>\n",
    "      <tr>\n",
    "      <td>Streamlit</td>\n",
    "      <td>\n",
    "        <li>Cuenta creada y configurada de forma impecable.</li>\n",
    "        <li>Nombre creativo, conciso y perfectamente alineado con el contenido y proposito del Dashboard. </li>\n",
    "        <li>Dashboard despliega sin problemas, accesible, funciona optimamente, reprositorio y rama perfectamente configurados.</li>\n",
    "      </td>\n",
    "      <td>\n",
    "        <li>El equipo crea una cuenta en Streamlit. </li>\n",
    "        <li>Nombre coherente con el contenido del Dashboard. </li>\n",
    "        <li>Dashboard despliega y es accesible, puede tener errores menores o rendimiento no óptimo, configuración correcta.</li>\n",
    "      </td>\n",
    "      <td>\n",
    "        <li>La cuenta existe pereo presenta problemas menores de configuración. </li>\n",
    "        <li>Nombre genérico o poco descriptivo. \n",
    "        <li>Problemas al desplegarse, inaccesible o errores frecuente. Configuració con errores menores.</li>\n",
    "      </td>\n",
    "      <td>\n",
    "        <li>No hay cuenta de Streamlit o no se puede acceder.</li>\n",
    "        <li>Nombre irrelebante o confuso. </li>\n",
    "        <li>Configuración erronea.</li>\n",
    "      </td>\n",
    "    </tr>\n",
    "  </tbody>\n",
    "</table>"
   ]
  },
  {
   "cell_type": "markdown",
   "id": "80c88a1e-803c-4fac-b13c-d5461583d8dd",
   "metadata": {},
   "source": [
    "## Proyecto: Dashboard, Simce cuarto básico\n",
    "Regiones para analizar:\n",
    "- tarapacá\n",
    "- maule\n",
    "- la araucanía\n",
    "- aysén del general carlos ibáñez del campo\n",
    "- magallanes y de la antártica chilena\n",
    "- metropolitana"
   ]
  },
  {
   "cell_type": "markdown",
   "id": "b0864f17-553e-466c-9e00-d416ddb540d2",
   "metadata": {},
   "source": [
    "---"
   ]
  },
  {
   "cell_type": "markdown",
   "id": "ce90b373-a777-4357-a195-e4cc22aeb1cd",
   "metadata": {},
   "source": [
    "[![Descargar](https://badgen.net/badge/dataset_simce/descargar/red)](https://drive.google.com/file/d/1hlYAGrD4iBWyNRzS8ORyc92UXDB4GB5p/view?usp=sharing)"
   ]
  },
  {
   "cell_type": "markdown",
   "id": "3b3c75a9-13b3-4836-894d-56a9717d5247",
   "metadata": {},
   "source": [
    "[![Descargar](https://badgen.net/badge/dataset_promedio_general/descargar/red)](https://drive.google.com/file/d/187HQC04DxfvycyUhLknyLe2XiQkZBkjc/view?usp=sharing)"
   ]
  },
  {
   "cell_type": "code",
   "execution_count": null,
   "id": "b5b35cc4-7f78-421c-850d-fc5c72d75bce",
   "metadata": {},
   "outputs": [],
   "source": []
  },
  {
   "cell_type": "code",
   "execution_count": null,
   "id": "35d64ea1-7d99-4d64-9156-d814fdf8d7bb",
   "metadata": {},
   "outputs": [],
   "source": []
  }
 ],
 "metadata": {
  "kernelspec": {
   "display_name": "Python [conda env:base] *",
   "language": "python",
   "name": "conda-base-py"
  },
  "language_info": {
   "codemirror_mode": {
    "name": "ipython",
    "version": 3
   },
   "file_extension": ".py",
   "mimetype": "text/x-python",
   "name": "python",
   "nbconvert_exporter": "python",
   "pygments_lexer": "ipython3",
   "version": "3.9.16"
  }
 },
 "nbformat": 4,
 "nbformat_minor": 5
}
