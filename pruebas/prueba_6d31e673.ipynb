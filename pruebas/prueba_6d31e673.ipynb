{
 "cells": [
  {
   "cell_type": "code",
   "execution_count": null,
   "id": "8e7f36d4-9474-4e81-8627-68efb0ea19a0",
   "metadata": {},
   "outputs": [],
   "source": [
    "# venev uacademia >>> 20250428"
   ]
  },
  {
   "cell_type": "markdown",
   "id": "de2a6896-69f3-45bf-994e-6ada4093c93a",
   "metadata": {},
   "source": [
    "# Prueba Introduccion a Python\n",
    "## codigo 6d31e673"
   ]
  },
  {
   "cell_type": "markdown",
   "id": "e580fdb6-2083-40f7-bc87-1010fcab374c",
   "metadata": {},
   "source": [
    "[Abrir formulario de respuestas](https://forms.gle/mH91RrvqztPzHzsb8)"
   ]
  },
  {
   "cell_type": "markdown",
   "id": "aaa5dd9a-cfde-46b6-9b60-91890277cc5b",
   "metadata": {},
   "source": [
    "## Nombre"
   ]
  },
  {
   "cell_type": "code",
   "execution_count": null,
   "id": "3bb14ddc-f8fc-4607-acfe-0e4213fbda96",
   "metadata": {},
   "outputs": [],
   "source": [
    "nombre = input(\"Ingresa tu nombre y apellido: \")\n",
    "print(f\"\\nHola, {nombre}. Buena suerte\")"
   ]
  },
  {
   "cell_type": "markdown",
   "id": "bb561f3b-4833-49bf-8e74-64c95f426595",
   "metadata": {},
   "source": [
    "## Ejercicios de selección multiples"
   ]
  },
  {
   "cell_type": "code",
   "execution_count": null,
   "id": "77634dae-6357-47e2-93f7-3a7e23dcfd81",
   "metadata": {},
   "outputs": [],
   "source": [
    "lista_uno = [\"serie\", -5, [3, \"a\", 4], (True, False), 2.71828, {\"clave\": 100}, None, \"amarillo\", 0]"
   ]
  },
  {
   "cell_type": "markdown",
   "id": "d71671a6-ddc3-402a-a399-87b72544ae1c",
   "metadata": {},
   "source": [
    "### Ejercicio No 1 (1 punto)"
   ]
  },
  {
   "cell_type": "markdown",
   "id": "02c1f522-dba0-4b92-bccf-0b3a257cf4fe",
   "metadata": {},
   "source": [
    "#### ¿Qué opción imprimira el penúltimo elemento?\n",
    "- a. lista_uno[-2]\n",
    "- b. lista_uno[0:1]\n",
    "- c. lista_uno(3)\n",
    "- d. lista_uno{\"clave\",\"valor\"}\n",
    "- e. lista_uno[6]"
   ]
  },
  {
   "cell_type": "markdown",
   "id": "c7ef2bc5-a045-444a-9236-cdbbcbaecf2d",
   "metadata": {},
   "source": [
    "### Ejercicio No 2 (1 punto)"
   ]
  },
  {
   "cell_type": "markdown",
   "id": "4617b3b3-1b2b-4a96-964d-840c190df9c4",
   "metadata": {},
   "source": [
    "#### ¿Qué opción imprimira el valor del diccionario dentro de la lista?\n",
    "- a. print(lista_uno[5])\n",
    "- b. print(diccionario.values())\n",
    "- c. print(lista_uno.values())\n",
    "- d. print(lista_uno[5].values())\n",
    "- e. Ninguna de las anteriores"
   ]
  },
  {
   "cell_type": "markdown",
   "id": "e5f9faed-b0fe-4abb-8d8e-5a53ffd0a647",
   "metadata": {},
   "source": [
    "### Ejercicio No 3 (1 punto)"
   ]
  },
  {
   "cell_type": "markdown",
   "id": "94a9dfc0-813d-4fb6-8f54-4ff1d22cdf0e",
   "metadata": {},
   "source": [
    "#### ¿Qué opción agregara un valor **qwerty** al final de la lista?\n",
    "- a. lista_uno.add(\"qwerty\")\n",
    "- b. lista_uno.additem(\"qwerty\")\n",
    "- c. lista_uno(\"qwerty\").append\n",
    "- d. lista_uno.append(\"qwerty\")\n",
    "- e. Ninguna de las anteriores"
   ]
  },
  {
   "cell_type": "markdown",
   "id": "f3b1b818-1e81-48ab-aeca-2c50380f37fb",
   "metadata": {},
   "source": [
    "### Ejercicio No 4 (1 punto)"
   ]
  },
  {
   "cell_type": "markdown",
   "id": "794f3595-657a-49c6-9fa5-196430c97dfd",
   "metadata": {},
   "source": [
    "#### ¿Qué opción es usada para indicar si un elemento existe dentro de la lista?\n",
    "- a. 'sol' on mi_lista\n",
    "- b. 'sol' into mi_lista\n",
    "- c. 'sol' in_between mi_lista\n",
    "- d. 'sol' inside mi_lista\n",
    "- e. Ninguna de las anteriores"
   ]
  },
  {
   "cell_type": "markdown",
   "id": "10ea6831-4fe2-468a-939e-9d43e2737b0e",
   "metadata": {},
   "source": [
    "## Ejercicios de Verdadero o Falso"
   ]
  },
  {
   "cell_type": "markdown",
   "id": "c76c9186-f255-42ef-b722-68ecdb8428c6",
   "metadata": {},
   "source": [
    "### Ejercicio No 5 (1 punto)"
   ]
  },
  {
   "cell_type": "markdown",
   "id": "4d6cc30a-ded8-495a-8bd6-4056a1d91c47",
   "metadata": {},
   "source": [
    "```python\n",
    "for elemento in lista_uno:\n",
    "    if type(elemento) == \"txt\": \n",
    "        print(elemento)\n",
    "```"
   ]
  },
  {
   "cell_type": "markdown",
   "id": "af37a23b-b02d-4e2e-a27e-247449a8cc8b",
   "metadata": {},
   "source": [
    "#### El siguiente codigo es para imprimir solo elementos de tipo texto\n",
    "\n",
    "- Verdadero\n",
    "- Falso"
   ]
  },
  {
   "cell_type": "markdown",
   "id": "67ca26fe-f516-4647-adb9-dcd66b873ec5",
   "metadata": {},
   "source": [
    "### Ejercicio No 6 (1 punto)"
   ]
  },
  {
   "cell_type": "markdown",
   "id": "1b38cd88-6c7c-4e3c-a3ef-140e4c9c965b",
   "metadata": {},
   "source": [
    "```python\n",
    "fact = 1\n",
    "for x in range(1, 11):\n",
    "    fact *= x\n",
    "    print(fact)\n",
    "```"
   ]
  },
  {
   "cell_type": "markdown",
   "id": "bfb7bfa7-0549-4075-b549-1e60f115e552",
   "metadata": {},
   "source": [
    "#### El último elemento que se imprime es el: **362880**\n",
    "\n",
    "- Verdadero\n",
    "- Falso"
   ]
  },
  {
   "cell_type": "markdown",
   "id": "50f6ac29-6879-4f15-9e64-9aae3b91aad8",
   "metadata": {},
   "source": [
    "## Ejercicios de desarrollo"
   ]
  },
  {
   "cell_type": "markdown",
   "id": "9db0c8ae-438e-4996-8f51-8bcfde381c75",
   "metadata": {},
   "source": [
    "### Ejercicio No 7 (1 punto)"
   ]
  },
  {
   "cell_type": "code",
   "execution_count": null,
   "id": "619482e2-d137-4a90-a8ee-a735de081b5d",
   "metadata": {},
   "outputs": [],
   "source": [
    "lista = [9, \"manzana\", None, 3.14159, True, [1, 2], {\"nombre\": \"Carlos\"}, (5, \"hola\"), False,  \"elefante\", 17]"
   ]
  },
  {
   "cell_type": "markdown",
   "id": "de016d5d-f3f2-4189-8f91-120748340f7c",
   "metadata": {
    "jp-MarkdownHeadingCollapsed": true
   },
   "source": [
    "#### 7.1 Agrega un elemento al final de la lista y muestra (print) la lista actualizada.\n",
    "#### 7.2 Elimina el tercer elemento de la lista.\n",
    "#### 7.3 Muestra todos los elementos de la lista usando un **for**.\n",
    "#### 7.4 Verifica si el número 42 está dentro de la lista. Muestra un mensaje apropiado usando un **if**.\n",
    "#### 7.5 Suma todos los numeros de la lista"
   ]
  },
  {
   "cell_type": "markdown",
   "id": "bb44d0ad-2bf6-4856-b71a-c0c069515302",
   "metadata": {},
   "source": [
    "### Ejercicio No 8 (1 punto)"
   ]
  },
  {
   "cell_type": "code",
   "execution_count": null,
   "id": "f571b35b-6762-4d28-b99f-bc5831f45aff",
   "metadata": {},
   "outputs": [],
   "source": [
    "numeros = [52, 36, 64, 98, 63,34 ]"
   ]
  },
  {
   "cell_type": "markdown",
   "id": "0b3a8dca-5bb8-404c-9967-822a94fb06d4",
   "metadata": {},
   "source": [
    "#### Cuenta cuántos números pares hay en la lista numeros y entrega la suma de ellos."
   ]
  },
  {
   "cell_type": "markdown",
   "id": "53595358-ff99-4299-ba8f-c278a20be3f8",
   "metadata": {},
   "source": [
    "### Ejercicio No 9 (1 punto)"
   ]
  },
  {
   "cell_type": "code",
   "execution_count": null,
   "id": "e8d82fe1-f715-46b8-b1f2-4bea24d4b6d2",
   "metadata": {},
   "outputs": [],
   "source": [
    "lista_1 = [3, 78, 85, 89, 94, 30, 99, 72, 98, 20, 28, 83, 37, 39, 17, 56, 85, 89, 84, 18, 7, 42, 2, 84, 99, 87, 51, 65, 42, 28, 26, 51, 53, 4, 41, 69, 99, 86, 86, 42, 95, 92, 26, 1, 79, 46, 20, 13, 40, 2, 58, 97, 56, 84, 69]"
   ]
  },
  {
   "cell_type": "markdown",
   "id": "8aea2967-f1e6-42f3-a8b0-67824a049a8a",
   "metadata": {},
   "source": [
    "#### Escribe un programa que encuentre el número más grande de la lista_1."
   ]
  },
  {
   "cell_type": "code",
   "execution_count": null,
   "id": "bc3e3bf7-497c-49b0-b053-84e8a4532873",
   "metadata": {},
   "outputs": [],
   "source": []
  }
 ],
 "metadata": {
  "kernelspec": {
   "display_name": "Python 3 (ipykernel)",
   "language": "python",
   "name": "python3"
  },
  "language_info": {
   "codemirror_mode": {
    "name": "ipython",
    "version": 3
   },
   "file_extension": ".py",
   "mimetype": "text/x-python",
   "name": "python",
   "nbconvert_exporter": "python",
   "pygments_lexer": "ipython3",
   "version": "3.12.4"
  }
 },
 "nbformat": 4,
 "nbformat_minor": 5
}
