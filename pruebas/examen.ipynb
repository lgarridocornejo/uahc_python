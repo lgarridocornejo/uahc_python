{
 "cells": [
  {
   "cell_type": "code",
   "execution_count": null,
   "id": "99c5c4c9-81d2-4812-909d-968fcb87a159",
   "metadata": {},
   "outputs": [],
   "source": [
    "# env: uacademia"
   ]
  },
  {
   "cell_type": "markdown",
   "id": "564eb43f-ab33-4e91-bf1e-97992f60a40d",
   "metadata": {},
   "source": [
    "![](https://cibertest.com/public/img/main/categorias/13-examen-test-lenguaje-de-programacion-python.jpg)"
   ]
  },
  {
   "cell_type": "markdown",
   "id": "573b8b38-3351-490b-a9c1-340077130bd0",
   "metadata": {},
   "source": [
    "<table>\n",
    "  <thead>\n",
    "    <tr>\n",
    "      <th>No</th>\n",
    "      <th>Pregunta</th>\n",
    "      <th>Indicador (1 pto)</th>\n",
    "    </tr>\n",
    "  </thead>\n",
    "  <tbody>\n",
    "    <tr>\n",
    "      <td>1</td>\n",
    "      <td>¿Cuántas filas y columnas tiene el dataframe?</td>\n",
    "      <td>Identifica correctamente la cantidad total de filas y columnas presentes en el DataFrame.</td>\n",
    "    </tr>\n",
    "    <tr>\n",
    "      <td>2</td>\n",
    "      <td>¿Cuántos valores le faltan a la columna Age?</td>\n",
    "      <td>Determina con precisión la cantidad de valores nulos en la columna Age.</td>\n",
    "    </tr>\n",
    "    <tr>\n",
    "      <td>3</td>\n",
    "      <td>Si tuviera que imputar la columna Age. ¿Qué método usaría?</td>\n",
    "      <td>Propone un método adecuado de imputación para los datos faltantes en Age.</td>\n",
    "    </tr>\n",
    "    <tr>\n",
    "      <td>4</td>\n",
    "      <td>¿Por qué escogió ese método?\t</td>\n",
    "      <td>Justifica adecuadamente la elección del método de imputación, considerando la naturaleza de los datos.</td>\n",
    "    </tr>\n",
    "    <tr>\n",
    "      <td>5</td>\n",
    "      <td>¿Cuál es la tarifa promedio pagada por los pasajeros (Fare)?</td>\n",
    "      <td>Calcula e interpreta correctamente la tarifa promedio (Fare) del conjunto de pasajeros.</td>\n",
    "    </tr>\n",
    "    <tr>\n",
    "      <td>6</td>\n",
    "      <td>¿Cuál es la proporción de pasajeros por clase (Pclass)?</td>\n",
    "      <td>Calcula e interpreta correctamente la distribución porcentual por clase (Pclass).</td>\n",
    "    </tr>\n",
    "    <tr>\n",
    "      <td>7</td>\n",
    "      <td>¿Cuál fue la tasa general de supervivencia?</td>\n",
    "      <td>Calcula correctamente el porcentaje de pasajeros que sobrevivieron.</td>\n",
    "    </tr>\n",
    "    <tr>\n",
    "      <td>8</td>\n",
    "      <td>¿Cómo varía la tasa de supervivencia según el sexo (Sex)?\t</td>\n",
    "      <td>Analiza e interpreta correctamente las diferencias en la tasa de supervivencia entre hombres y mujeres.</td>\n",
    "    </tr>\n",
    "    <tr>\n",
    "      <td>9</td>\n",
    "      <td>¿Cómo varía la tasa de supervivencia según la clase (Pclass)?\t</td>\n",
    "      <td>Analiza correctamente las diferencias en la tasa de supervivencia según la clase del pasajero.</td>\n",
    "    </tr>\n",
    "    <tr>\n",
    "      <td>10</td>\n",
    "      <td>¿Cuál es el nombre y la edad de la mujer de mayor edad superviviente?\t</td>\n",
    "      <td>Identifica correctamente el nombre y edad de la mujer de mayor edad entre las personas sobrevivientes.</td>\n",
    "    </tr>\n",
    "  </tbody>\n",
    "</table>"
   ]
  },
  {
   "cell_type": "markdown",
   "id": "110b0dfe-f58e-472d-8cad-23627a580468",
   "metadata": {},
   "source": [
    "## Al terminar el examen, recuerda subir el desarrollo de tu jupyter notebook, de lo contario tendras la nota minima"
   ]
  },
  {
   "cell_type": "markdown",
   "id": "7a4bb6f8-497e-42be-8ade-877d7c648ec9",
   "metadata": {},
   "source": [
    "[![Descargar](https://badgen.net/badge/formulario/TITANIC/red)](https://forms.gle/FDm8bRSmr7fWY3L99)"
   ]
  },
  {
   "cell_type": "code",
   "execution_count": null,
   "id": "51563a59-351d-48d9-974b-01f65eede202",
   "metadata": {},
   "outputs": [],
   "source": [
    "import pandas as pd\n",
    "import seaborn as sns\n",
    "import matplotlib.pyplot as plt"
   ]
  },
  {
   "cell_type": "code",
   "execution_count": null,
   "id": "9c0c4e3f-7c48-4f3e-a3d2-efbf24de66a2",
   "metadata": {},
   "outputs": [],
   "source": [
    "import requests\n",
    "from io import StringIO\n",
    "\n",
    "def leer_csv_desde_url(url, sep=',', encoding='utf-8'):\n",
    "    try:\n",
    "        response = requests.get(url)\n",
    "        response.raise_for_status() # Lanza una excepción para códigos de estado HTTP 4xx/5xx\n",
    "        content = response.content.decode(encoding)\n",
    "        csv_data = StringIO(content)\n",
    "        df = pd.read_csv(csv_data, sep=sep)\n",
    "        return df\n",
    "\n",
    "    except requests.exceptions.RequestException as e:\n",
    "        raise Exception(f\"Error de red o al acceder a la URL: {e}\")\n",
    "    except pd.errors.EmptyDataError:\n",
    "        raise Exception(\"Error: El archivo CSV está vacío o solo contiene encabezados.\")\n",
    "    except pd.errors.ParserError as e:\n",
    "        raise Exception(f\"Error de análisis CSV. Revisa el delimitador (sep) o el formato del archivo: {e}\")\n",
    "    except Exception as e:\n",
    "        raise Exception(f\"Ocurrió un error inesperado: {e}\")"
   ]
  },
  {
   "cell_type": "code",
   "execution_count": null,
   "id": "6e41bcf9-3922-4da4-ac30-754e73fee0e9",
   "metadata": {},
   "outputs": [],
   "source": [
    "url = \"https://drive.google.com/uc?export=download&id=1jIdZFwwqfPXh7HoDiIG14OEhxWzVjepq\""
   ]
  },
  {
   "cell_type": "code",
   "execution_count": null,
   "id": "ce8d6779-2f0c-4222-b817-b9d7bc7c8e16",
   "metadata": {},
   "outputs": [],
   "source": [
    "df = leer_csv_desde_url(url)"
   ]
  },
  {
   "cell_type": "code",
   "execution_count": null,
   "id": "e97840d6-b497-4ce7-9151-d30221496faf",
   "metadata": {},
   "outputs": [],
   "source": []
  }
 ],
 "metadata": {
  "kernelspec": {
   "display_name": "Python [conda env:base] *",
   "language": "python",
   "name": "conda-base-py"
  },
  "language_info": {
   "codemirror_mode": {
    "name": "ipython",
    "version": 3
   },
   "file_extension": ".py",
   "mimetype": "text/x-python",
   "name": "python",
   "nbconvert_exporter": "python",
   "pygments_lexer": "ipython3",
   "version": "3.9.16"
  }
 },
 "nbformat": 4,
 "nbformat_minor": 5
}
